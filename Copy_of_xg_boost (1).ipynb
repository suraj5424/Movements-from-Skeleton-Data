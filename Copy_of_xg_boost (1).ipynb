{
  "nbformat": 4,
  "nbformat_minor": 0,
  "metadata": {
    "colab": {
      "private_outputs": true,
      "provenance": []
    },
    "kernelspec": {
      "name": "python3",
      "display_name": "Python 3"
    },
    "language_info": {
      "name": "python"
    }
  },
  "cells": [
    {
      "cell_type": "code",
      "source": [
        "# @title Loading the  data into Drive from Kaggle\n",
        "\n",
        "# Install Kaggle library\n",
        "!pip install kaggle\n",
        "\n",
        "# Install colab and mount Google Drive\n",
        "from google.colab import drive\n",
        "drive.mount('/content/drive')\n",
        "\n",
        "# Move Kaggle API key to the appropriate directory\n",
        "!mkdir -p ~/.kaggle\n",
        "!cp /content/kaggle.json  ~/.kaggle/\n",
        "\n",
        "# Download the dataset\n",
        "!kaggle competitions download -c learning-of-structured-data-fhws-ws2324\n",
        "\n",
        "# Unzip the dataset\n",
        "!unzip -q learning-of-structured-data-fhws-ws2324.zip"
      ],
      "metadata": {
        "id": "pxUcVNe6VI_8"
      },
      "execution_count": null,
      "outputs": []
    },
    {
      "cell_type": "code",
      "source": [
        "# @title Imported Necessary Libraries\n",
        "import numpy as np\n",
        "import pandas as pd\n",
        "import glob\n",
        "import os\n",
        "from tqdm.notebook import tqdm\n",
        "from sklearn.model_selection import train_test_split\n",
        "from sklearn.preprocessing import StandardScaler, LabelEncoder\n",
        "from sklearn.metrics import accuracy_score\n",
        "from xgboost import XGBClassifier\n",
        "import numpy as np\n",
        "from sklearn.model_selection import train_test_split\n",
        "from xgboost import XGBClassifier\n",
        "from sklearn.metrics import accuracy_score\n",
        "from sklearn.preprocessing import LabelEncoder"
      ],
      "metadata": {
        "id": "3_GlE3JhVszH"
      },
      "execution_count": null,
      "outputs": []
    },
    {
      "cell_type": "code",
      "source": [
        "# @title Function to extract Labels and DataFrame\n",
        "def load_dataset(folder_path):\n",
        "    \"\"\"\n",
        "    Load the dataset from the given folder path.\n",
        "    :param folder_path: The path to the folder containing the dataset.\n",
        "    :return: The dataset as a pandas dataframe.\n",
        "    \"\"\"\n",
        "    # Get all the csv files in the folder\n",
        "    csv_files = glob.glob(os.path.join(folder_path, \"*.csv\"))\n",
        "\n",
        "    # Load all the csv files into a list of dataframes\n",
        "    dataframes = []\n",
        "    sizes = []\n",
        "    names = []\n",
        "\n",
        "    # Define column names\n",
        "    columns_names = [\"F\" + str(i) for i in range(1, 80)]\n",
        "\n",
        "    # Iterate through each CSV file\n",
        "    for csv_file in tqdm(csv_files, desc=\"Loading Data\", unit=\"file\"):\n",
        "        # Load CSV into a temporary dataframe\n",
        "        temp_df = pd.read_csv(csv_file, na_values='', header=None, names=columns_names)\n",
        "\n",
        "        # Record the size of the dataframe\n",
        "        sizes.append(temp_df.shape[0])\n",
        "        name = csv_file.split('_')[-1].split('.')[0]\n",
        "        names.append(name)\n",
        "\n",
        "    # Find the smallest size among all dataframes\n",
        "    smallest = min(sizes)\n",
        "\n",
        "    # Iterate through each CSV file again\n",
        "    for csv_file in tqdm(csv_files, desc=\"Loading Data\", unit=\"file\"):\n",
        "        # Load CSV into a temporary dataframe\n",
        "        temp_df = pd.read_csv(csv_file, na_values='', header=None, names=columns_names)\n",
        "\n",
        "        # Get the label from the file name\n",
        "        label = csv_file.split('_')[-1].split('.')[0]\n",
        "\n",
        "        # Add the label to the dataframe\n",
        "        temp_df['label'] = label\n",
        "\n",
        "        # Append the first 'smallest' rows to the list of dataframes\n",
        "        dataframes.append(temp_df[:194])\n",
        "\n",
        "    # Concatenate all the dataframes into one\n",
        "    dataset = pd.concat(dataframes)\n",
        "\n",
        "    # Return the dataset and  Lables\n",
        "    return dataset,names"
      ],
      "metadata": {
        "id": "3BUMhfhzXwYB"
      },
      "execution_count": null,
      "outputs": []
    },
    {
      "cell_type": "code",
      "source": [
        "# @title Load the training dataset\n",
        "folder_path = '/content/train/train'\n",
        "data_df, actions = load_dataset(folder_path)"
      ],
      "metadata": {
        "id": "lZAeK69SXy--"
      },
      "execution_count": null,
      "outputs": []
    },
    {
      "cell_type": "code",
      "source": [
        "np.array(actions).shape"
      ],
      "metadata": {
        "id": "vv-HhHyI5jbI"
      },
      "execution_count": null,
      "outputs": []
    },
    {
      "cell_type": "code",
      "source": [
        "# @title Handle missing values by filling them with mean\n",
        "df = data_df.fillna(data_df.mean())"
      ],
      "metadata": {
        "id": "7Q1YJatRX0eO"
      },
      "execution_count": null,
      "outputs": []
    },
    {
      "cell_type": "code",
      "source": [
        "df['label'].value_counts()"
      ],
      "metadata": {
        "id": "oURe4xOG8MyC"
      },
      "execution_count": null,
      "outputs": []
    },
    {
      "cell_type": "code",
      "source": [
        "# @title Reshaped  data to suitable shape\n",
        "df1 = df.iloc[:,:-1]\n",
        "df2 = df1.values.reshape(1167,194,79)"
      ],
      "metadata": {
        "id": "oqAusVQl8aIY"
      },
      "execution_count": null,
      "outputs": []
    },
    {
      "cell_type": "code",
      "source": [
        "# @title Reshape the data to meet XGBoost requirements\n",
        "X_data_reshaped = df2.reshape(df2.shape[0], -1)\n",
        "y_data = actions"
      ],
      "metadata": {
        "id": "tVgCplboAL5n"
      },
      "execution_count": null,
      "outputs": []
    },
    {
      "cell_type": "code",
      "source": [
        "# @title Use LabelEncoder to convert string labels to numeric labels\n",
        "label_encoder = LabelEncoder()\n",
        "y_data_encoded = label_encoder.fit_transform(y_data)"
      ],
      "metadata": {
        "id": "C39WlfmkAMsw"
      },
      "execution_count": null,
      "outputs": []
    },
    {
      "cell_type": "code",
      "source": [
        "# @title Check the unique classes (now in numeric format)\n",
        "unique_classes_encoded = np.unique(y_data_encoded)\n",
        "print(\"Unique Classes (Encoded):\", unique_classes_encoded)"
      ],
      "metadata": {
        "id": "I8K6x8aBANXO"
      },
      "execution_count": null,
      "outputs": []
    },
    {
      "cell_type": "code",
      "source": [
        "# @title Train-test split\n",
        "X_train, X_test, y_train, y_test = train_test_split(X_data_reshaped, y_data_encoded, test_size=0.2, random_state=42)"
      ],
      "metadata": {
        "id": "zsojGUa1AOU1"
      },
      "execution_count": null,
      "outputs": []
    },
    {
      "cell_type": "code",
      "source": [
        "# @title Create an XGBoost classifier\n",
        "model = XGBClassifier(objective='multi:softmax', num_class=5)"
      ],
      "metadata": {
        "id": "smUCgX_WAO7D"
      },
      "execution_count": null,
      "outputs": []
    },
    {
      "cell_type": "code",
      "source": [
        "# @title Train the model\n",
        "model.fit(X_train, y_train)"
      ],
      "metadata": {
        "id": "OvtEU7vJARQ_"
      },
      "execution_count": null,
      "outputs": []
    },
    {
      "cell_type": "code",
      "source": [
        "# @title Make predictions on the test set\n",
        "y_pred = model.predict(X_test)"
      ],
      "metadata": {
        "id": "fG4Kmo35ARym"
      },
      "execution_count": null,
      "outputs": []
    },
    {
      "cell_type": "code",
      "source": [
        "# @title Decode numeric predictions back to string labels\n",
        "y_pred_decoded = label_encoder.inverse_transform(y_pred)"
      ],
      "metadata": {
        "id": "8e7cjX4UASXq"
      },
      "execution_count": null,
      "outputs": []
    },
    {
      "cell_type": "code",
      "source": [
        "# @title Evaluate the model\n",
        "accuracy = accuracy_score(y_test, y_pred)\n",
        "print(f\"Test Accuracy: {accuracy}\")"
      ],
      "metadata": {
        "id": "6GNaQFN4ATLZ"
      },
      "execution_count": null,
      "outputs": []
    },
    {
      "cell_type": "code",
      "source": [
        "# @title Load the test dataset\n",
        "test_folder_path = '/content/test/test'\n",
        "test_df,names1 = load_dataset(test_folder_path)"
      ],
      "metadata": {
        "id": "9EQ2Sah3Bs96"
      },
      "execution_count": null,
      "outputs": []
    },
    {
      "cell_type": "code",
      "source": [
        "test_df"
      ],
      "metadata": {
        "id": "my1ASNqOCAF_"
      },
      "execution_count": null,
      "outputs": []
    },
    {
      "cell_type": "code",
      "source": [
        "# @title Handle missing values by filling them with mean\n",
        "df4 = test_df.fillna(test_df.mean())"
      ],
      "metadata": {
        "id": "VlJEmxzODOx4"
      },
      "execution_count": null,
      "outputs": []
    },
    {
      "cell_type": "code",
      "source": [
        "# @title Removing Model Column\n",
        "df5 = df4.iloc[:,:-1]\n",
        "X_new = df5.values.reshape(305,194,79)"
      ],
      "metadata": {
        "id": "MNmPf-tBDOx6"
      },
      "execution_count": null,
      "outputs": []
    },
    {
      "cell_type": "code",
      "source": [
        "X_new.shape"
      ],
      "metadata": {
        "id": "GNCIQf_MDw3z"
      },
      "execution_count": null,
      "outputs": []
    },
    {
      "cell_type": "code",
      "source": [
        "# @title Reshape the new data\n",
        "X_new_reshaped = X_new.reshape(X_new.shape[0], -1)"
      ],
      "metadata": {
        "id": "_L1Ep_n7Bjau"
      },
      "execution_count": null,
      "outputs": []
    },
    {
      "cell_type": "code",
      "source": [
        "# @title Predict the classes for the new data\n",
        "new_predictions = model.predict(X_new_reshaped)"
      ],
      "metadata": {
        "id": "9vmt2M2xAk9B"
      },
      "execution_count": null,
      "outputs": []
    },
    {
      "cell_type": "code",
      "source": [
        "# @title Decode numeric predictions back to string labels\n",
        "new_predictions_decoded = label_encoder.inverse_transform(new_predictions)"
      ],
      "metadata": {
        "id": "jb8L6GojAlsv"
      },
      "execution_count": null,
      "outputs": []
    },
    {
      "cell_type": "code",
      "source": [
        "# @title Display the predicted classes\n",
        "print(\"Predicted Classes for df6:\")\n",
        "print(new_predictions_decoded)"
      ],
      "metadata": {
        "id": "rpiIKqtBAmOs"
      },
      "execution_count": null,
      "outputs": []
    },
    {
      "cell_type": "code",
      "source": [
        "type(new_predictions_decoded)"
      ],
      "metadata": {
        "id": "_cSAionRMt7l"
      },
      "execution_count": null,
      "outputs": []
    },
    {
      "cell_type": "code",
      "source": [
        "# @title Created new Mapping and replaced  it with Predictiions\n",
        "\n",
        "mapping = {\"boxing\": 0, \"drums\": 1, \"guitar\": 2, \"rowing\": 3, \"violin\": 4}\n",
        "\n",
        "# Create a DataFrame with the predicted classes\n",
        "df = pd.DataFrame({'Predicted Classes': new_predictions_decoded})\n",
        "\n",
        "# Replace values based on the mapping\n",
        "df['Predicted Classes'] = df['Predicted Classes'].replace(mapping)\n"
      ],
      "metadata": {
        "id": "5FGE1RDnNO1B"
      },
      "execution_count": null,
      "outputs": []
    },
    {
      "cell_type": "code",
      "source": [
        "# @title Display the updated DataFram\n",
        "new_predictions_decoded.shape"
      ],
      "metadata": {
        "id": "MsmPbjeuLNOF"
      },
      "execution_count": null,
      "outputs": []
    },
    {
      "cell_type": "code",
      "source": [
        "# @title Create a DataFrame for the submission file\n",
        "submission_df = pd.DataFrame({'id': range(1, len(new_predictions) + 1), 'action': new_predictions})"
      ],
      "metadata": {
        "id": "hRXEiG2KLKpY"
      },
      "execution_count": null,
      "outputs": []
    },
    {
      "cell_type": "code",
      "source": [
        "submission_df"
      ],
      "metadata": {
        "id": "JxBPsH8yLXEQ"
      },
      "execution_count": null,
      "outputs": []
    },
    {
      "cell_type": "code",
      "source": [
        "# @title Save the submission file\n",
        "submission_df.to_csv('Submission_file.csv', index=False)"
      ],
      "metadata": {
        "id": "nttJvBRVMCeW"
      },
      "execution_count": null,
      "outputs": []
    }
  ]
}